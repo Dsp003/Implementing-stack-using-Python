{
 "cells": [
  {
   "cell_type": "markdown",
   "metadata": {},
   "source": [
    "# Singly linked list, here stack "
   ]
  },
  {
   "cell_type": "code",
   "execution_count": 1,
   "metadata": {},
   "outputs": [],
   "source": [
    "import numpy as np"
   ]
  },
  {
   "cell_type": "markdown",
   "metadata": {},
   "source": [
    "### Ceating a node"
   ]
  },
  {
   "cell_type": "code",
   "execution_count": 2,
   "metadata": {},
   "outputs": [],
   "source": [
    "class node:\n",
    "    def __init__(self, data=None):\n",
    "        self.data = data\n",
    "        self.nxt = None"
   ]
  },
  {
   "cell_type": "markdown",
   "metadata": {},
   "source": [
    "### Implementing Stack"
   ]
  },
  {
   "cell_type": "code",
   "execution_count": 3,
   "metadata": {},
   "outputs": [],
   "source": [
    "class llist:\n",
    "    def __init__(self):\n",
    "        self.top = None\n",
    "        self.fr = None\n",
    "        \n",
    "    def push(self, data):\n",
    "        new = node(data)\n",
    "        if self.top == None:\n",
    "            self.top = new\n",
    "            self.fr = new\n",
    "        else:\n",
    "            self.top.nxt = new\n",
    "            self.top = new\n",
    "            \n",
    "    def pop(self):\n",
    "        cur = self.fr\n",
    "        while(cur.nxt != self.top):\n",
    "            cur = cur.nxt\n",
    "        cur.nxt = None\n",
    "        self.top = cur\n",
    "            \n",
    "    def ins(self, odata, ndata):\n",
    "        if self.top == None:\n",
    "            print('list is empty')\n",
    "        else:\n",
    "            new = node(ndata)\n",
    "            cur = self.fr\n",
    "            while(cur.data != odata):\n",
    "                cur = cur.nxt\n",
    "            new.nxt = cur.nxt\n",
    "            cur.nxt = new\n",
    "            \n",
    "    def dell(self, data):\n",
    "        cur = self.fr\n",
    "        if cur.data == data:\n",
    "            self.fr = cur.nxt\n",
    "            return\n",
    "        \n",
    "        while(cur.nxt.data != data):\n",
    "            cur = cur.nxt\n",
    "        if cur.nxt == self.top:\n",
    "            cur.nxt = None\n",
    "            self.top = cur\n",
    "        else:\n",
    "            cur.nxt = cur.nxt.nxt\n",
    "            \n",
    "    def disp(self):\n",
    "        cur = self.fr\n",
    "        while cur != self.top:\n",
    "            print(cur.data)\n",
    "            cur = cur.nxt\n",
    "        if cur == self.top:\n",
    "            print(self.top.data)"
   ]
  },
  {
   "cell_type": "markdown",
   "metadata": {},
   "source": [
    "### Creating a synthetic dataset"
   ]
  },
  {
   "cell_type": "code",
   "execution_count": 7,
   "metadata": {},
   "outputs": [
    {
     "data": {
      "text/plain": [
       "array([9, 9, 4, 6, 7, 9, 1, 9])"
      ]
     },
     "execution_count": 7,
     "metadata": {},
     "output_type": "execute_result"
    }
   ],
   "source": [
    "ar = np.random.randint(15, size=8)\n",
    "ar"
   ]
  },
  {
   "cell_type": "markdown",
   "metadata": {},
   "source": [
    "### Pushing items to the stack"
   ]
  },
  {
   "cell_type": "code",
   "execution_count": 8,
   "metadata": {},
   "outputs": [
    {
     "name": "stdout",
     "output_type": "stream",
     "text": [
      "9\n",
      "9\n",
      "4\n",
      "6\n",
      "7\n",
      "9\n",
      "1\n",
      "9\n"
     ]
    }
   ],
   "source": [
    "ll = llist()\n",
    "for i in ar:\n",
    "    ll.push(i)\n",
    "ll.disp()"
   ]
  },
  {
   "cell_type": "markdown",
   "metadata": {},
   "source": [
    "### Inserting element in the middle"
   ]
  },
  {
   "cell_type": "code",
   "execution_count": 9,
   "metadata": {},
   "outputs": [
    {
     "name": "stdout",
     "output_type": "stream",
     "text": [
      "9\n",
      "9\n",
      "4\n",
      "6\n",
      "8\n",
      "7\n",
      "9\n",
      "1\n",
      "9\n"
     ]
    }
   ],
   "source": [
    "ll.ins(6, 8)\n",
    "ll.disp()"
   ]
  },
  {
   "cell_type": "markdown",
   "metadata": {},
   "source": [
    "### Deleting an element in the middle"
   ]
  },
  {
   "cell_type": "code",
   "execution_count": 10,
   "metadata": {},
   "outputs": [
    {
     "name": "stdout",
     "output_type": "stream",
     "text": [
      "9\n",
      "9\n",
      "4\n",
      "8\n",
      "7\n",
      "9\n",
      "1\n",
      "9\n"
     ]
    }
   ],
   "source": [
    "ll.dell(6)\n",
    "ll.disp()"
   ]
  },
  {
   "cell_type": "markdown",
   "metadata": {},
   "source": [
    "### Poping (deleting the last element) from the linked list"
   ]
  },
  {
   "cell_type": "code",
   "execution_count": 11,
   "metadata": {},
   "outputs": [
    {
     "name": "stdout",
     "output_type": "stream",
     "text": [
      "9\n",
      "9\n",
      "4\n",
      "8\n",
      "7\n",
      "9\n",
      "1\n"
     ]
    }
   ],
   "source": [
    "ll.pop()\n",
    "ll.disp()"
   ]
  },
  {
   "cell_type": "code",
   "execution_count": null,
   "metadata": {},
   "outputs": [],
   "source": []
  }
 ],
 "metadata": {
  "kernelspec": {
   "display_name": "Python 3",
   "language": "python",
   "name": "python3"
  },
  "language_info": {
   "codemirror_mode": {
    "name": "ipython",
    "version": 3
   },
   "file_extension": ".py",
   "mimetype": "text/x-python",
   "name": "python",
   "nbconvert_exporter": "python",
   "pygments_lexer": "ipython3",
   "version": "3.7.5"
  }
 },
 "nbformat": 4,
 "nbformat_minor": 4
}
